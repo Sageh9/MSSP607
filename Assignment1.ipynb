{
  "nbformat": 4,
  "nbformat_minor": 0,
  "metadata": {
    "colab": {
      "provenance": [],
      "authorship_tag": "ABX9TyN4kHzVAAEOepg+pKvEk3YC",
      "include_colab_link": true
    },
    "kernelspec": {
      "name": "python3",
      "display_name": "Python 3"
    },
    "language_info": {
      "name": "python"
    }
  },
  "cells": [
    {
      "cell_type": "markdown",
      "metadata": {
        "id": "view-in-github",
        "colab_type": "text"
      },
      "source": [
        "<a href=\"https://colab.research.google.com/github/Sageh9/MSSP607/blob/main/Assignment1.ipynb\" target=\"_parent\"><img src=\"https://colab.research.google.com/assets/colab-badge.svg\" alt=\"Open In Colab\"/></a>"
      ]
    },
    {
      "cell_type": "code",
      "execution_count": null,
      "metadata": {
        "id": "PFjsK1LFU0HC"
      },
      "outputs": [],
      "source": [
        "import pandas as pd\n",
        "import numpy as np\n",
        "import matplotlib.pyplot as plt\n",
        "import seaborn as sns\n",
        "from scipy import stats\n",
        "import statsmodels.api as sm\n",
        "import statsmodels.formula.api as smf"
      ]
    },
    {
      "cell_type": "code",
      "source": [],
      "metadata": {
        "id": "ZYYqpQUxYKDB"
      },
      "execution_count": null,
      "outputs": []
    },
    {
      "cell_type": "code",
      "source": [
        "df = pd.read_excel('/content/sample_data/data_academic_performance.xlsx', sheet_name=\"SABER11_SABERPRO\")"
      ],
      "metadata": {
        "id": "miuAjgeMVWwR"
      },
      "execution_count": null,
      "outputs": []
    },
    {
      "cell_type": "code",
      "source": [
        "print(df)"
      ],
      "metadata": {
        "colab": {
          "base_uri": "https://localhost:8080/"
        },
        "id": "MJvo8PsQYeP6",
        "outputId": "c4ed18a7-f5cb-4456-ef8f-449004305af8"
      },
      "execution_count": null,
      "outputs": [
        {
          "output_type": "stream",
          "name": "stdout",
          "text": [
            "                cod_s11 gender                         edu_father  \\\n",
            "0      SB11201210000129      F  Incomplete Professional Education   \n",
            "1      SB11201210000137      F                 Complete Secundary   \n",
            "2      SB11201210005154      M                           Not sure   \n",
            "3      SB11201210007504      F                           Not sure   \n",
            "4      SB11201210007548      M    Complete professional education   \n",
            "...                 ...    ...                                ...   \n",
            "12406  SB11201420568705      M                            Ninguno   \n",
            "12407  SB11201420573045      M    Complete professional education   \n",
            "12408  SB11201420578809      M   Complete technique or technology   \n",
            "12409  SB11201420578812      F    Complete professional education   \n",
            "12410  SB11201420583232      M                 Complete Secundary   \n",
            "\n",
            "                             edu_mother  \\\n",
            "0      Complete technique or technology   \n",
            "1       Complete professional education   \n",
            "2                              Not sure   \n",
            "3                              Not sure   \n",
            "4       Complete professional education   \n",
            "...                                 ...   \n",
            "12406                Complete Secundary   \n",
            "12407                Complete Secundary   \n",
            "12408  Complete technique or technology   \n",
            "12409   Complete professional education   \n",
            "12410                 Complete primary    \n",
            "\n",
            "                                     occ_father                   occ_mother  \\\n",
            "0      Technical or professional level employee                         Home   \n",
            "1                                 Entrepreneur      Independent professional   \n",
            "2                                   Independent                         Home   \n",
            "3                              Other occupation                  Independent   \n",
            "4                                     Executive                         Home   \n",
            "...                                         ...                          ...   \n",
            "12406                          Other occupation  Auxiliary or Administrative   \n",
            "12407                                 Executive             Other occupation   \n",
            "12408                                   Retired                         Home   \n",
            "12409                  Independent professional          Small entrepreneur    \n",
            "12410                               Independent                         Home   \n",
            "\n",
            "         stratum                              sisben people_house  unnamed:_9  \\\n",
            "0      Stratum 4  It is not classified by the SISBEN        Three         NaN   \n",
            "1      Stratum 5  It is not classified by the SISBEN        Three         NaN   \n",
            "2      Stratum 2                             Level 2         Five         NaN   \n",
            "3      Stratum 2  It is not classified by the SISBEN        Three         NaN   \n",
            "4      Stratum 4  It is not classified by the SISBEN          One         NaN   \n",
            "...          ...                                 ...          ...         ...   \n",
            "12406  Stratum 2  It is not classified by the SISBEN          Six         NaN   \n",
            "12407  Stratum 2                             Level 2         Five         NaN   \n",
            "12408  Stratum 2                             Level 2         Five         NaN   \n",
            "12409  Stratum 3  It is not classified by the SISBEN        Seven         NaN   \n",
            "12410  Stratum 3                             Level 1         Four         NaN   \n",
            "\n",
            "       ... cc_pro eng_pro wc_pro fep_pro g_sc percentile 2nd_decile quartile  \\\n",
            "0      ...     71      93     79     181  180         91          5        4   \n",
            "1      ...     86      98     78     201  182         92          5        4   \n",
            "2      ...     18      43     22     113  113          7          1        1   \n",
            "3      ...     76      80     48     137  157         67          4        3   \n",
            "4      ...     98     100     71     189  198         98          5        4   \n",
            "...    ...    ...     ...    ...     ...  ...        ...        ...      ...   \n",
            "12406  ...     86      87     65     142  176         88          5        4   \n",
            "12407  ...     44      11      0     127  107          4          1        1   \n",
            "12408  ...     90      81     87     192  188         95          5        4   \n",
            "12409  ...     51       8     42     121  146         50          3        3   \n",
            "12410  ...     91      79     47     193  178         89          5        4   \n",
            "\n",
            "      sel sel_ihe  \n",
            "0       2       2  \n",
            "1       4       4  \n",
            "2       1       1  \n",
            "3       2       2  \n",
            "4       4       2  \n",
            "...    ..     ...  \n",
            "12406   2       2  \n",
            "12407   4       2  \n",
            "12408   2       2  \n",
            "12409   3       2  \n",
            "12410   2       4  \n",
            "\n",
            "[12411 rows x 45 columns]\n"
          ]
        }
      ]
    },
    {
      "cell_type": "code",
      "source": [
        "# === Basic Cleaning ===\n",
        "df = df.rename(columns=lambda x: x.strip())  # clean column names\n",
        "df = df.dropna(subset=[\"gender\", \"percentile\"])  # remove missing essential values\n",
        "df[\"percentile\"] = pd.to_numeric(df[\"percentile\"], errors=\"coerce\")\n",
        "\n",
        "# === 1. Gender Comparison ===\n",
        "gender_summary = df.groupby(\"gender\")[\"percentile\"].agg([\"mean\", \"std\", \"count\"])\n",
        "print(\"=== Performance by Gender =====\")\n",
        "print(gender_summary, \"\\n\")\n",
        "\n",
        "# t-test between genders\n",
        "male_scores = df.loc[df[\"gender\"] == \"M\", \"percentile\"].dropna()\n",
        "female_scores = df.loc[df[\"gender\"] == \"F\", \"percentile\"].dropna()\n",
        "t_stat, p_val = stats.ttest_ind(male_scores, female_scores, equal_var=False)\n",
        "print(f\"T-test Gender difference: t={t_stat:.3f}, p={p_val:.3f}\\n\")\n",
        "\n",
        "# === 2. Parental Education Influence ===\n",
        "edu_effect = df.groupby(\"edu_father\")[\"percentile\"].mean().sort_values(ascending=False)\n",
        "print(\"=== Average Percentile by Father's Education ===\")\n",
        "print(edu_effect, \"\\n\")\n",
        "\n",
        "# ANOVA to test overall difference\n",
        "groups = [group[\"percentile\"].dropna() for name, group in df.groupby(\"edu_father\")]\n",
        "f_stat, p_val_edu = stats.f_oneway(*groups) # Changed p_val to p_val_edu to avoid conflict\n",
        "print(f\"ANOVA Father Education Effect: F={f_stat:.3f}, p={p_val_edu:.3f}\\n\")\n",
        "\n",
        "\n",
        "# === 3. Socioeconomic Stratum Performance ===\n",
        "stratum_effect = df.groupby(\"stratum\")[\"percentile\"].mean().sort_values(ascending=False)\n",
        "print(\"=== Average Percentile by Stratum ===\")\n",
        "print(stratum_effect, \"\\n\")\n",
        "\n",
        "groups_stratum = [group[\"percentile\"].dropna() for name, group in df.groupby(\"stratum\")]\n",
        "f_stat, p_val_stratum = stats.f_oneway(*groups_stratum) # Changed p_val to p_val_stratum to avoid conflict\n",
        "print(f\"ANOVA Stratum Effect: F={f_stat:.3f}, p={p_val_stratum:.3f}\\n\")\n",
        "\n",
        "# === 4. Summary Insights ===\n",
        "print(\"=== Insights & Recommendations ===\")\n",
        "if p_val_stratum < 0.05:\n",
        "    print(\"- Socioeconomic stratum shows significant differences in performance.\")\n",
        "else:\n",
        "    print(\"- No strong statistical difference between strata in performance.\")\n",
        "\n",
        "# Check if 'edu_father' is in the index of edu_effect before accessing its elements\n",
        "if 'Complete professional education' in edu_effect.index:\n",
        "    print(\"- Higher parental education levels correlate with higher percentiles.\")\n",
        "else:\n",
        "    print(\"- Parental education effect not consistent across categories.\")\n",
        "\n",
        "\n",
        "if p_val < 0.05 and t_stat < 0:\n",
        "    print(\"- Female students outperform male students on average.\")\n",
        "elif p_val < 0.05 and t_stat > 0:\n",
        "    print(\"- Male students outperform female students on average.\")\n",
        "else:\n",
        "    print(\"- Gender performance differences are not statistically significant.\")\n",
        "\n",
        "print(\"\\nRecommendations:\")\n",
        "print(\"1. Strengthen support for students from lower strata via targeted aid and mentoring.\")\n",
        "print(\"2. Encourage parental involvement and awareness campaigns about education’s impact.\")\n",
        "print(\"3. Further investigate why gender or socioeconomic differences persist.\")"
      ],
      "metadata": {
        "colab": {
          "base_uri": "https://localhost:8080/"
        },
        "id": "NvvaGik6YWca",
        "outputId": "9026233e-d637-4182-d5bd-0f5ff304e67b"
      },
      "execution_count": null,
      "outputs": [
        {
          "output_type": "stream",
          "name": "stdout",
          "text": [
            "=== Performance by Gender =====\n",
            "             mean        std  count\n",
            "gender                             \n",
            "F       67.133254  25.801336   5043\n",
            "M       69.345277  25.876128   7368 \n",
            "\n",
            "T-test Gender difference: t=4.685, p=0.000\n",
            "\n",
            "=== Average Percentile by Father's Education ===\n",
            "edu_father\n",
            "Postgraduate education                   82.417512\n",
            "Incomplete Professional Education        73.818824\n",
            "Complete professional education          73.712865\n",
            "Complete technique or technology         70.152429\n",
            "Incomplete technical or technological    68.339350\n",
            "Not sure                                 65.405405\n",
            "Complete Secundary                       64.488217\n",
            "Ninguno                                  62.138211\n",
            "Incomplete Secundary                     61.899175\n",
            "Incomplete primary                       61.137415\n",
            "0                                        61.089514\n",
            "Complete primary                         60.347087\n",
            "Name: percentile, dtype: float64 \n",
            "\n",
            "ANOVA Father Education Effect: F=76.171, p=0.000\n",
            "\n",
            "=== Average Percentile by Stratum ===\n",
            "stratum\n",
            "Stratum 6    85.831266\n",
            "Stratum 5    83.203791\n",
            "Stratum 4    78.427123\n",
            "Stratum 3    70.151545\n",
            "Stratum 2    63.669149\n",
            "0            58.857143\n",
            "Stratum 1    56.970743\n",
            "Name: percentile, dtype: float64 \n",
            "\n",
            "ANOVA Stratum Effect: F=204.327, p=0.000\n",
            "\n",
            "=== Insights & Recommendations ===\n",
            "- Socioeconomic stratum shows significant differences in performance.\n",
            "- Higher parental education levels correlate with higher percentiles.\n",
            "- Male students outperform female students on average.\n",
            "\n",
            "Recommendations:\n",
            "1. Strengthen support for students from lower strata via targeted aid and mentoring.\n",
            "2. Encourage parental involvement and awareness campaigns about education’s impact.\n",
            "3. Further investigate why gender or socioeconomic differences persist.\n"
          ]
        }
      ]
    },
    {
      "cell_type": "markdown",
      "source": [
        "Gender Comparison: The code calculated the mean, standard deviation, and count of the 'percentile' for each gender. An independent samples t-test was performed to compare the means of male and female students' percentiles.\n",
        "Parental Education Influence: The average 'percentile' was calculated for each category of 'edu_father' (father's education level). An ANOVA test was conducted to determine if there were significant differences in mean percentiles across the different father's education levels.\n",
        "Socioeconomic Stratum Performance: The average 'percentile' was calculated for each socioeconomic 'stratum'. An ANOVA test was conducted to determine if there were significant differences in mean percentiles across the different strata.\n",
        "Summary Insights and Recommendations: Based on the p-values from the statistical tests, the code printed insights about the significance of gender, parental education, and socioeconomic stratum on academic performance and provided recommendations.\n",
        "In essence, the code performs descriptive statistics and inferential statistical tests (t-test and ANOVA) to analyze the relationship between academic performance (measured by percentile) and demographic and socioeconomic factors like gender, parental education, and socioeconomic stratum.\n",
        "\n"
      ],
      "metadata": {
        "id": "bW-_bZcBY2SN"
      }
    },
    {
      "cell_type": "markdown",
      "metadata": {
        "id": "3ea48b70"
      },
      "source": [
        "Based on the analysis performed, here are the insights and recommendations, along with answers to your specific questions:\n",
        "\n",
        "**Insights and Recommendations**\n",
        "\n",
        "The analysis reveals significant relationships between academic performance (measured by percentile) and several socioeconomic and demographic factors.\n",
        "\n",
        "1.  **Parental education significantly influences outcomes.** As shown by the \"Average Percentile by Father's Education\" output and the ANOVA p-value of 0.000, there are significant differences in academic performance across different levels of father's education. Students whose fathers have postgraduate education have the highest average percentile (82.42), while those with fathers having only complete primary education or no education tend to have lower percentiles (around 60-62). This suggests a positive correlation between higher parental education and better academic performance.\n",
        "\n",
        "2.  **Socioeconomic stratum significantly impacts performance, and there are clear differences between strata.** The \"Average Percentile by Stratum\" output and the ANOVA p-value of 0.000 demonstrate significant differences in performance across strata. Stratum 6 performs best with an average percentile of 85.83, followed closely by Stratum 5 (83.20). Performance generally decreases as the stratum level decreases, with Stratum 1 and Stratum 0 showing the lowest average percentiles (56.97 and 58.86 respectively). This indicates a strong positive correlation between higher socioeconomic stratum and better academic performance.\n",
        "\n",
        "3.  **How does each gender perform in the global assessment?** There is a statistically significant difference in global assessment performance between genders. The t-test result (t=4.685, p=0.000) indicates that this difference is statistically significant. Male students, with an average percentile of 69.35, outperform female students, who have an average percentile of 67.13.\n",
        "\n",
        "4.  **Use your analysis to understand the results. What did you find interesting, and can you make any recommendations or inferences?**\n",
        "    My analysis reinforces the strong influence of socioeconomic factors and parental education on academic performance. The significant difference in performance across strata and the correlation with parental education are particularly interesting findings, highlighting potential inequalities in educational opportunities or support. While the gender difference is statistically significant, the magnitude of the difference in mean percentiles is smaller compared to the differences observed across educational levels and strata.\n",
        "\n",
        "**Recommendations:**\n",
        "\n",
        "*   **Targeted Support for Lower Strata:** Implement programs and provide resources specifically designed to support students from lower socioeconomic strata to help bridge the performance gap.\n",
        "*   **Promote Parental Engagement:** Develop initiatives to encourage parental involvement in education, particularly for parents with lower levels of formal education, emphasizing the positive impact it can have on their children's academic success.\n",
        "*   **Investigate Gender Differences:** Conduct further research to understand the underlying reasons for the observed gender difference in performance to develop targeted interventions if necessary."
      ]
    }
  ]
}
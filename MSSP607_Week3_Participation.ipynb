{
  "nbformat": 4,
  "nbformat_minor": 0,
  "metadata": {
    "colab": {
      "provenance": [],
      "authorship_tag": "ABX9TyPNghMJsa5tn5FWf24+L4lU",
      "include_colab_link": true
    },
    "kernelspec": {
      "name": "ir",
      "display_name": "R"
    },
    "language_info": {
      "name": "R"
    }
  },
  "cells": [
    {
      "cell_type": "markdown",
      "metadata": {
        "id": "view-in-github",
        "colab_type": "text"
      },
      "source": [
        "<a href=\"https://colab.research.google.com/github/Sageh9/MSSP607/blob/main/MSSP607_Week3_Participation.ipynb\" target=\"_parent\"><img src=\"https://colab.research.google.com/assets/colab-badge.svg\" alt=\"Open In Colab\"/></a>"
      ]
    },
    {
      "cell_type": "code",
      "execution_count": 3,
      "metadata": {
        "colab": {
          "base_uri": "https://localhost:8080/"
        },
        "id": "bgA0X2vGgDeH",
        "outputId": "2bee3863-b516-4114-eb66-3ca24cbb2f63"
      },
      "outputs": [
        {
          "output_type": "stream",
          "name": "stdout",
          "text": [
            "[1] \"I'm in a local scope (created on function call)\"\n",
            "[1] \"I'm in a local scope (created on function call)\"\n",
            "[1] \"Inside function: temporary\"\n",
            "Enter a number: 24\n",
            "[1] \"You entered: 24\"\n",
            "Enter a positive integer: 24\n",
            "24 -> 12 -> 6 -> 3 -> 10 -> 5 -> 16 -> 8 -> 4 -> 2 -> 1"
          ]
        }
      ],
      "source": [
        "# Question 3a\n",
        "# When does the code in a function execute: when the function is defined or called?\n",
        "# Answer: The code in a function executes when the function is called, not when defined.\n",
        "\n",
        "# Example: Defining the function doesn't run the code inside\n",
        "example_function <- function() {\n",
        "  print(\"This runs when the function is called\")\n",
        "}\n",
        "\n",
        "# Uncomment the line below to see it execute on call\n",
        "# example_function()\n",
        "\n",
        "\n",
        "# Question 3b\n",
        "# How many global scopes are there in an R program? How many local scopes?\n",
        "# Answer: There is 1 global scope. The number of local scopes depends on the number of function calls (each call creates a new local scope).\n",
        "\n",
        "global_var <- \"I'm in global scope\"\n",
        "\n",
        "local_scope_example <- function() {\n",
        "  local_var <- \"I'm in a local scope (created on function call)\"\n",
        "  print(local_var)\n",
        "}\n",
        "\n",
        "# Each call creates a new local scope\n",
        "local_scope_example()\n",
        "local_scope_example()\n",
        "\n",
        "\n",
        "# Question 3c\n",
        "# What happens to variables in a local scope when the function call returns?\n",
        "# Answer: Variables in the local scope are removed and cannot be accessed after the function returns.\n",
        "\n",
        "test_local_scope <- function() {\n",
        "  temp_var <- \"temporary\"\n",
        "  print(paste(\"Inside function:\", temp_var))\n",
        "}\n",
        "\n",
        "test_local_scope()\n",
        "\n",
        "# Uncommenting the line below will cause an error (temp_var no longer exists)\n",
        "# print(paste(\"Outside function:\", temp_var))\n",
        "\n",
        "\n",
        "# Question 3d\n",
        "# How can you prevent a program from crashing when it gets an error?\n",
        "# Answer: Use tryCatch() to catch and handle errors.\n",
        "\n",
        "tryCatch({\n",
        "  # May cause an error if input is not an integer\n",
        "  user_input <- as.integer(readline(prompt = \"Enter a number: \"))\n",
        "  print(paste(\"You entered:\", user_input))\n",
        "}, error = function(e) {\n",
        "  print(\"Error: That's not a valid integer!\")\n",
        "})\n",
        "\n",
        "\n",
        "# Practice Program: Collatz Sequence\n",
        "# Description: Takes a positive integer and generates the Collatz sequence until reaching 1.\n",
        "\n",
        "collatz <- function(number) {\n",
        "  if (number %% 2 == 0) {\n",
        "    return(number %/% 2)  # Integer division for even numbers\n",
        "  } else {\n",
        "    return(3 * number + 1)  # For odd numbers\n",
        "  }\n",
        "}\n",
        "\n",
        "tryCatch({\n",
        "  # Get valid positive integer input\n",
        "  user_number <- as.integer(readline(prompt = \"Enter a positive integer: \"))\n",
        "\n",
        "  if (is.na(user_number) || user_number < 1) {\n",
        "    print(\"Please enter a valid positive integer.\")\n",
        "  } else {\n",
        "    current <- user_number\n",
        "    cat(current)  # Print the starting number\n",
        "    while (current != 1) {\n",
        "      current <- collatz(current)\n",
        "      cat(paste(\" ->\", current))\n",
        "    }\n",
        "  }\n",
        "}, error = function(e) {\n",
        "  print(\"Error: Please enter a valid integer.\")\n",
        "})"
      ]
    }
  ]
}
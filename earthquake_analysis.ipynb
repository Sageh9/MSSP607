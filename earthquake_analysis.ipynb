{
  "cells": [
    {
      "cell_type": "markdown",
      "metadata": {
        "id": "view-in-github",
        "colab_type": "text"
      },
      "source": [
        "<a href=\"https://colab.research.google.com/github/Sageh9/MSSP607/blob/main/earthquake_analysis.ipynb\" target=\"_parent\"><img src=\"https://colab.research.google.com/assets/colab-badge.svg\" alt=\"Open In Colab\"/></a>"
      ]
    },
    {
      "cell_type": "code",
      "execution_count": 2,
      "id": "5f9c0436",
      "metadata": {
        "colab": {
          "base_uri": "https://localhost:8080/"
        },
        "id": "5f9c0436",
        "outputId": "e7c75f42-79a4-410c-df8a-a0514ca22b76"
      },
      "outputs": [
        {
          "output_type": "stream",
          "name": "stdout",
          "text": [
            "Mounted at /content/drive\n",
            "95th percentile of magnitude in Japan (mb): 4.9\n",
            "Percentage of Indonesia earthquakes with tsunami: 23.12925170068027\n",
            "Summary statistics for Nevada earthquakes:\n",
            "count    677.000000\n",
            "mean       0.491728\n",
            "std        0.689560\n",
            "min       -0.500000\n",
            "25%       -0.100000\n",
            "50%        0.400000\n",
            "75%        0.900000\n",
            "max        2.900000\n",
            "Name: mag, dtype: float64\n",
            "Number of earthquakes in Ring of Fire: 4423\n",
            "Number outside Ring of Fire: 4909\n",
            "Tsunami count along Ring of Fire: 43\n"
          ]
        }
      ],
      "source": [
        "from google.colab import drive\n",
        "drive.mount('/content/drive')\n",
        "\n",
        "import pandas as pd\n",
        "\n",
        "df = pd.read_csv(\"/content/drive/MyDrive/MSSP607/data/parsed.csv\")\n",
        "\n",
        "\n",
        "japan_mb_95 = df[(df['place'].str.contains(\"Japan\", case=False, na=False)) & (df['magType'] == 'mb')]['mag'].quantile(0.95)\n",
        "print(\"95th percentile of magnitude in Japan (mb):\", japan_mb_95)\n",
        "\n",
        "indo_total = df['place'].str.contains(\"Indonesia\", case=False, na=False).sum()\n",
        "indo_tsunami = df[(df['place'].str.contains(\"Indonesia\", case=False, na=False)) & (df['tsunami'] == 1)].shape[0]\n",
        "indo_percentage = (indo_tsunami / indo_total) * 100\n",
        "print(\"Percentage of Indonesia earthquakes with tsunami:\", indo_percentage)\n",
        "\n",
        "nevada_stats = df[df['place'].str.contains(\"Nevada\", case=False, na=False)]['mag'].describe()\n",
        "print(\"Summary statistics for Nevada earthquakes:\")\n",
        "print(nevada_stats)\n",
        "\n",
        "ring_of_fire = [\"Bolivia\",\"Chile\",\"Ecuador\",\"Peru\",\"Costa Rica\",\"Guatemala\",\"Mexico\",\"Japan\",\"Philippines\",\"Indonesia\",\"New Zealand\",\"Antarctica\",\"Canada\",\"Fiji\",\"Alaska\",\"Washington\",\"California\",\"Russia\",\"Taiwan\",\"Tonga\",\"Kermadec Islands\"]\n",
        "df['RingOfFire'] = df['place'].apply(lambda x: any(loc.lower() in str(x).lower() for loc in ring_of_fire))\n",
        "\n",
        "ring_count = df['RingOfFire'].sum()\n",
        "non_ring_count = len(df) - ring_count\n",
        "print(\"Number of earthquakes in Ring of Fire:\", ring_count)\n",
        "print(\"Number outside Ring of Fire:\", non_ring_count)\n",
        "\n",
        "ring_tsunami_count = df[(df['RingOfFire'] == True) & (df['tsunami'] == 1)].shape[0]\n",
        "print(\"Tsunami count along Ring of Fire:\", ring_tsunami_count)"
      ]
    }
  ],
  "metadata": {
    "colab": {
      "provenance": [],
      "include_colab_link": true
    },
    "language_info": {
      "name": "python"
    },
    "kernelspec": {
      "name": "python3",
      "display_name": "Python 3"
    }
  },
  "nbformat": 4,
  "nbformat_minor": 5
}
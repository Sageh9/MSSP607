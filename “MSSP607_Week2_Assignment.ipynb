{
  "nbformat": 4,
  "nbformat_minor": 0,
  "metadata": {
    "colab": {
      "provenance": [],
      "authorship_tag": "ABX9TyPIenBKOW3A8A4Au2sXsoSi",
      "include_colab_link": true
    },
    "kernelspec": {
      "name": "python3",
      "display_name": "Python 3"
    },
    "language_info": {
      "name": "python"
    }
  },
  "cells": [
    {
      "cell_type": "markdown",
      "metadata": {
        "id": "view-in-github",
        "colab_type": "text"
      },
      "source": [
        "<a href=\"https://colab.research.google.com/github/Sageh9/MSSP607/blob/main/%E2%80%9CMSSP607_Week2_Assignment.ipynb\" target=\"_parent\"><img src=\"https://colab.research.google.com/assets/colab-badge.svg\" alt=\"Open In Colab\"/></a>"
      ]
    },
    {
      "cell_type": "code",
      "execution_count": 3,
      "metadata": {
        "id": "RQmzQ-VbavsL"
      },
      "outputs": [],
      "source": [
        "# a. Create 'spam' list\n",
        "spam = [2, 4, 6, 8, 10]\n",
        "\n",
        "# b. Assign 'hello' as the third value (index 2, since Python uses 0-based indexing)\n",
        "spam[2] = 'hello'"
      ]
    },
    {
      "cell_type": "code",
      "source": [
        "# a. Create 'letters' list\n",
        "letters = ['a', 'b', 'c', 'd']\n",
        "\n",
        "# b. Evaluate letters[int(int('3'*2)//11)]\n",
        "# '3'*2 is '33', int('33') is 33, 33//11 is 3, int(3) is 3; letters[3] is 'd'\n",
        "result_b = letters[int(int('3'*2)//11)]\n",
        "\n",
        "# c. Evaluate letters[-1]\n",
        "# Negative index -1 refers to the last element of the list, which is 'd'\n",
        "result_c = letters[-1]\n",
        "\n",
        "# d. Evaluate letters[:2]\n",
        "# Slice [:2] means elements from start (index 0) up to but not including index 2: ['a', 'b']\n",
        "result_d = letters[:2]\n",
        "\n",
        "# Print results to verify\n",
        "print(result_b, result_c, result_d)"
      ],
      "metadata": {
        "colab": {
          "base_uri": "https://localhost:8080/"
        },
        "id": "IGCblC8Ba7n0",
        "outputId": "9092446f-c435-497c-aa7f-8e0e4302c38a"
      },
      "execution_count": 4,
      "outputs": [
        {
          "output_type": "stream",
          "name": "stdout",
          "text": [
            "d d ['a', 'b']\n"
          ]
        }
      ]
    },
    {
      "cell_type": "code",
      "source": [
        "# Convert list to tuple: use tuple() function\n",
        "sample_list = [1, 2, 3, 'x']\n",
        "list_to_tuple = tuple(sample_list)\n",
        "print(\"List to tuple:\", list_to_tuple)  # Output: (1, 2, 3, 'x')\n",
        "\n",
        "# Convert tuple to list: use list() function\n",
        "sample_tuple = ('a', 'b', 4, 5)\n",
        "tuple_to_list = list(sample_tuple)\n",
        "print(\"Tuple to list:\", tuple_to_list)  # Output: ['a', 'b', 4, 5]"
      ],
      "metadata": {
        "colab": {
          "base_uri": "https://localhost:8080/"
        },
        "id": "NTKniJbya8_z",
        "outputId": "24219d30-f41d-4fe9-a09f-873e0591183d"
      },
      "execution_count": 2,
      "outputs": [
        {
          "output_type": "stream",
          "name": "stdout",
          "text": [
            "List to tuple: (1, 2, 3, 'x')\n",
            "Tuple to list: ['a', 'b', 4, 5]\n"
          ]
        }
      ]
    },
    {
      "cell_type": "code",
      "source": [
        "def format_list(input_list):\n",
        "    # Handle empty list\n",
        "    if not input_list:\n",
        "        return \"\"\n",
        "    # Handle single-item list\n",
        "    elif len(input_list) == 1:\n",
        "        return str(input_list[0])\n",
        "    # Handle lists with 2+ items: join all except last with \", \", add \"and\" before last\n",
        "    else:\n",
        "        return \", \".join(input_list[:-1]) + \" and \" + input_list[-1]\n",
        "\n",
        "# Test with the given 'spam' list\n",
        "spam = ['apples', 'bananas', 'tofu', 'cats']\n",
        "print(format_list(spam))  # Output: apples, bananas, tofu and cats\n",
        "\n",
        "# Test with other lists to verify flexibility\n",
        "test1 = ['x']\n",
        "print(format_list(test1))  # Output: x\n",
        "\n",
        "test2 = ['dog', 'cat']\n",
        "print(format_list(test2))  # Output: dog and cat"
      ],
      "metadata": {
        "colab": {
          "base_uri": "https://localhost:8080/"
        },
        "id": "SD2HzQKza9IN",
        "outputId": "b74fd159-db94-4fa5-8585-7eaa127b30b3"
      },
      "execution_count": 1,
      "outputs": [
        {
          "output_type": "stream",
          "name": "stdout",
          "text": [
            "apples, bananas, tofu and cats\n",
            "x\n",
            "dog and cat\n"
          ]
        }
      ]
    }
  ]
}